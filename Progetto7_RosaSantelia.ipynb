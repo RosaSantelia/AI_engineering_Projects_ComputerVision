{
 "cells": [
  {
   "cell_type": "markdown",
   "id": "e44d3106",
   "metadata": {},
   "source": [
    "# Progetto 7"
   ]
  },
  {
   "cell_type": "markdown",
   "id": "017215cf",
   "metadata": {},
   "source": [
    "## Visualizzare e filtrare i dati"
   ]
  },
  {
   "cell_type": "code",
   "execution_count": 1,
   "id": "90e11894",
   "metadata": {},
   "outputs": [],
   "source": [
    "import pandas as pd"
   ]
  },
  {
   "cell_type": "code",
   "execution_count": 2,
   "id": "67cf6574",
   "metadata": {},
   "outputs": [],
   "source": [
    "import matplotlib.pyplot as plt\n",
    "import seaborn as sns"
   ]
  },
  {
   "cell_type": "code",
   "execution_count": 3,
   "id": "936ceb66",
   "metadata": {},
   "outputs": [],
   "source": [
    "df = pd.read_csv('bologna.csv', sep=',') #lettura del file"
   ]
  },
  {
   "cell_type": "code",
   "execution_count": 4,
   "id": "27685600",
   "metadata": {},
   "outputs": [
     {
      "data": {
       "text/html": [
        "<div>\n",
        "<style scoped>\n",
        "    .dataframe tbody tr th:only-of-type {\n",
        "        vertical-align: middle;\n",
        "    }\n",
        "\n",
        "    .dataframe tbody tr th {\n",
        "        vertical-align: top;\n",
        "    }\n",
        "\n",
        "    .dataframe thead th {\n",
        "        text-align: right;\n",
        "    }\n",
        "</style>\n",
        "<table border=\"1\" class=\"dataframe\">\n",
        "  <thead>\n",
        "    <tr style=\"text-align: right;\">\n",
        "      <th></th>\n",
        "      <th>lat</th>\n",
        "      <th>lon</th>\n",
        "      <th>title</th>\n",
        "      <th>address</th>\n",
        "      <th>phone</th>\n",
        "      <th>website</th>\n",
        "      <th>email</th>\n",
        "      <th>opening_hours</th>\n",
        "      <th>wheelchair</th>\n",
        "      <th>tags</th>\n",
        "    </tr>\n",
        "  </thead>\n",
        "  <tbody>\n",
        "    <tr>\n",
        "      <th>0</th>\n",
        "      <td>44.49397</td>\n",
        "      <td>11.34267</td>\n",
        "      <td>Corte Isolani</td>\n",
        "      <td>Strada Maggiore, 19</td>\n",
        "      <td>NaN</td>\n",
        "      <td>https://www.corteisolani.it</td>\n",
        "      <td>NaN</td>\n",
        "      <td>NaN</td>\n",
        "      <td>no</td>\n",
        "      <td>Punti di interesse</td>\n",
        "    </tr>\n",
        "    <tr>\n",
        "      <th>1</th>\n",
        "      <td>44.49479</td>\n",
        "      <td>11.34185</td>\n",
        "      <td>Basilica di Santo Stefano</td>\n",
        "      <td>Via Santo Stefano, 24</td>\n",
        "      <td>NaN</td>\n",
        "      <td>http://www.bolognawelcome.com/home/scopri/luog...</td>\n",
        "      <td>NaN</td>\n",
        "      <td>NaN</td>\n",
        "      <td>no</td>\n",
        "      <td>Punti di interesse</td>\n",
        "    </tr>\n",
        "    <tr>\n",
        "      <th>2</th>\n",
        "      <td>44.49466</td>\n",
        "      <td>11.34568</td>\n",
        "      <td>Palazzo Hercolani</td>\n",
        "      <td>Strada Maggiore, 45</td>\n",
        "      <td>NaN</td>\n",
        "      <td>NaN</td>
        "      <td>NaN</td>\n",
        "      <td>NaN</td>\n",
        "      <td>no</td>\n",
        "      <td>Punti di interesse</td>\n",
        "    </tr>\n",
        "    <tr>\n",
        "      <th>3</th>\n",
        "      <td>44.49397</td>\n",
        "      <td>11.34267</td>\n",
        "      <td>Corte Isolani</td>\n",
        "      <td>Strada Maggiore, 19</td>\n",
        "      <td>NaN</td>\n",
        "      <td>https://www.corteisolani.it</td>\n",
        "      <td>NaN</td>\n",
        "      <td>NaN</td>\n",
        "      <td>no</td>\n",
        "      <td>Punti di interesse</td>\n",
        "    </tr>\n",
        "    <tr>\n",
        "      <th>4</th>\n",
        "      <td>44.49479</td>\n",
        "      <td>11.34185</td>\n",
        "      <td>Basilica di Santo Stefano</td>\n",
        "      <td>Via Santo Stefano, 24</td>\n",
        "      <td>NaN</td>\n",
        "      <td>http://www.bolognawelcome.com/home/scopri/luog...</td>\n",
        "      <td>NaN</td>\n",
        "      <td>NaN</td>\n",
        "      <td>no</td>\n",
        "      <td>Punti di interesse</td>\n",
        "    </tr>\n",
        "    <tr>\n",
        "      <th>...</th>\n",
        "      <td>...</td>\n",
        "      <td>...</td>\n",
        "      <td>...</td>\n",
        "      <td>...</td>\n",
        "      <td>...</td>\n",
        "      <td>...</td>\n",
        "      <td>...</td>\n",
        "      <td>...</td>\n",
        "      <td>...</td>\n",
        "      <td>...</td>\n",
        "    </tr>\n",
        "    <tr>\n",
        "      <th>22</th>\n",
        "      <td>44.49887</td>\n",
        "      <td>11.33230</td>\n",
        "      <td>Palazzo Albergati</td>\n",
        "      <td>Via Saragozza, 28</td>\n",
        "      <td>NaN</td>\n",
        "      <td>NaN</td>\n",
        "      <td>NaN</td>\n",
        "      <td>NaN</td>\n",
        "      <td>no</td>\n",
        "      <td>Punti di interesse</td>\n",
        "    </tr>\n",
        "    <tr>\n",
        "      <th>23</th>\n",
        "      <td>44.49466</td>\n",
        "      <td>11.34568</td>\n",
        "      <td>Palazzo Hercolani</td>\n",
        "      <td>Strada Maggiore, 45</td>\n",
        "      <td>NaN</td>\n",
        "      <td>NaN</td>\n",
        "      <td>NaN</td>
        "      <td>NaN</td>\n",
        "      <td>no</td>\n",
        "      <td>Punti di interesse</td>\n",
        "    </tr>\n",
        "    <tr>\n",
        "      <th>24</th>\n",
        "      <td>44.49673</td>\n",
        "      <td>11.34211</td>\n",
        "      <td>Teatro Comunale</td>\n",
        "      <td>Largo Respighi, 1</td>\n",
        "      <td>051529999</td>\n",
        "      <td>https://www.tcbo.it/</td>\n",
        "      <td>NaN</td>\n",
        "      <td>NaN</td>\n",
        "      <td>no</td>\n",
        "      <td>Punti di interesse</td>\n",
        "    </tr>\n",
        "    <tr>\n",
        "      <th>25</th>\n",
        "      <td>44.49397</td>\n",
        "      <td>11.34267</td>\n",
        "      <td>Corte Isolani</td>\n",
        "      <td>Strada Maggiore, 19</td>\n",
        "      <td>NaN</td>
        "      <td>https://www.corteisolani.it</td>\n",
        "      <td>NaN</td>
        "      <td>NaN</td>
        "      <td>no</td>\n",
        "      <td>Punti di interesse</td>\n",
        "    </tr>\n",
        "    <tr>\n",
        "      <th>26</th>\n",
        "      <td>44.49479</td>\n",
        "      <td>11.34185</td>\n",
        "      <td>Basilica di Santo Stefano</td>\n",
        "      <td>Via Santo Stefano, 24</td>\n",
        "      <td>NaN</td>
        "      <td>http://www.bolognawelcome.com/home/scopri/luog...</td>\n",
        "      <td>NaN</td>
        "      <td>NaN</td>
        "      <td>no</td>\n",
        "      <td>Punti di interesse</td>\n",
        "    </tr>\n",
        "  </tbody>\n",
        "</table>\n",
        "<p>27 rows × 10 columns</p>\n",
        "</div>"
       ],
       "text/plain": [
        "         lat       lon                      title              address  phone  \\\n",
        "0   44.49397  11.34267              Corte Isolani  Strada Maggiore, 19    NaN   \n",
        "1   44.49479  11.34185          Basilica di Santo Stefano  Via Santo Stefano, 24    NaN   \n",
        "2   44.49466  11.34568          Palazzo Hercolani  Strada Maggiore, 45    NaN   \n",
        "3   44.49397  11.34267              Corte Isolani  Strada Maggiore, 19    NaN   \n",
        "4   44.49479  11.34185          Basilica di Santo Stefano  Via Santo Stefano, 24    NaN   \n",
        "...      ...       ...                        ...                  ...    ...   \n",
        "22  44.49887  11.33230          Palazzo Albergati  Via Saragozza, 28    NaN   \n",
        "23  44.49466  11.34568          Palazzo Hercolani  Strada Maggiore, 45    NaN   \n",
        "24  44.49673  11.34211            Teatro Comunale  Largo Respighi, 1  051529999   \n",
        "25  44.49397  11.34267              Corte Isolani  Strada Maggiore, 19    NaN   \n",
        "26  44.49479  11.34185          Basilica di Santo Stefano  Via Santo Stefano, 24    NaN   \n",
        "\n",
        "                                               website email opening_hours  \\\n",
        "0                          https://www.corteisolani.it   NaN           NaN   \n",
        "1    http://www.bolognawelcome.com/home/scopri/luog...   NaN           NaN   \n",
        "2                                                  NaN   NaN           NaN   \n",
        "3                          https://www.corteisolani.it   NaN           NaN   \n",
        "4    http://www.bolognawelcome.com/home/scopri/luog...   NaN           NaN   \n",
        "...                                                ...   ...           ...   \n",
        "22                                                 NaN   NaN           NaN   \n",
        "23                                                 NaN   NaN           NaN   \n",
        "24                                https://www.tcbo.it/   NaN           NaN   \n",
        "25                         https://www.corteisolani.it   NaN           NaN   \n",
        "26   http://www.bolognawelcome.com/home/scopri/luog...   NaN           NaN   \n",
        "\n",
        "   wheelchair                tags  \n",
        "0          no  Punti di interesse  \n",
        "1          no  Punti di interesse  \n",
        "2          no  Punti di interesse  \n",
        "3          no  Punti di interesse  \n",
        "4          no  Punti di interesse  \n",
        "...       ...                 ...  \n",
        "22         no  Punti di interesse  \n",
        "23         no  Punti di interesse  \n",
        "24         no  Punti di interesse  \n",
        "25         no  Punti di interesse  \n",
        "26         no  Punti di interesse  \n",
        "\n",
        "[27 rows x 10 columns]"
       ]
      },
      "execution_count": 4,
      "metadata": {},
      "output_type": "execute_result"
     }
    ],
   "source": [
    "df"
   ]
  },
  {
   "cell_type": "code",
   "execution_count": 5,
   "id": "18f9e67c",
   "metadata": {},
   "outputs": [],
   "source": [
    "df.info()"
   ]
  },
  {
   "cell_type": "code",
   "execution_count": 6,
   "id": "e81d73c7",
   "metadata": {},
   "outputs": [],
   "source": [
    "df.shape"
   ]
  },
  {
   "cell_type": "code",
   "execution_count": 7,
   "id": "31393605",
   "metadata": {},
   "outputs": [],
   "source": [
    "df.describe()"
   ]
  },
  {
   "cell_type": "code",
   "execution_count": 8,
   "id": "99c334d7",
   "metadata": {},
   "outputs": [],
   "source": [
    "df.duplicated().sum() #controllo dei duplicati"
   ]
  },
  {
   "cell_type": "code",
   "execution_count": 9,
   "id": "060a0f8b",
   "metadata": {},
   "outputs": [],
   "source": [
    "df = df.drop_duplicates()"
   ]
  },
  {
   "cell_type": "code",
   "execution_count": 10,
   "id": "0172e276",
   "metadata": {},
   "outputs": [],
   "source": [
    "df.duplicated().sum()"
   ]
  },
  {
   "cell_type": "code",
   "execution_count": 11,
   "id": "bfd60677",
   "metadata": {},
   "outputs": [],
   "source": [
    "df.isnull().sum() #controllo dei valori nulli"
   ]
  },
  {
   "cell_type": "code",
   "execution_count": 12,
   "id": "e674b880",
   "metadata": {},
   "outputs": [],
   "source": [
    "df = df.dropna(how='all') #elimino le righe che hanno tutti valori nulli"
   ]
  },
  {
   "cell_type": "code",
   "execution_count": 13,
   "id": "a93ecb00",
   "metadata": {},
   "outputs": [],
   "source": [
    "df.isnull().sum()"
   ]
  },
  {
   "cell_type": "code",
   "execution_count": 14,
   "id": "5bf998a4",
   "metadata": {},
   "outputs": [],
   "source": [
    "df['opening_hours'].fillna('Non specificato', inplace=True) #rimpiazzo i valori nulli nella colonna opening_hours con 'Non specificato'"
   ]
  },
  {
   "cell_type": "code",
   "execution_count": 15,
   "id": "99ce4ef7",
   "metadata": {},
   "outputs": [],
   "source": [
    "df['phone'].fillna('Non specificato', inplace=True) #rimpiazzo i valori nulli nella colonna phone con 'Non specificato'"
   ]
  },
  {
   "cell_type": "code",
   "execution_count": 16,
   "id": "ad60c6f1",
   "metadata": {},
   "outputs": [],
   "source": [
    "df['website'].fillna('Non specificato', inplace=True) #rimpiazzo i valori nulli nella colonna website con 'Non specificato'"
   ]
  },
  {
   "cell_type": "code",
   "execution_count": 17,
   "id": "52857e4e",
   "metadata": {},
   "outputs": [],
   "source": [
    "df['email'].fillna('Non specificato', inplace=True) #rimpiazzo i valori nulli nella colonna email con 'Non specificato'"
   ]
  },
  {
   "cell_type": "code",
   "execution_count": 18,
   "id": "0601dfa1",
   "metadata": {},
   "outputs": [],
   "source": [
    "df.isnull().sum()"
   ]
  },
  {
   "cell_type": "code",
   "execution_count": 19,
   "id": "917f8588",
   "metadata": {},
   "outputs": [],
   "source": [
    "# Creazione del grafico a barre"
   ]
  },
  {
   "cell_type": "code",
   "execution_count": 20,
   "id": "40203f56",
   "metadata": {},
   "outputs": [
    {
     "data": {
      "image/png": "iVBORw0KGgoAAAANSUhEUgAAAvIAAAFuCAYAAADtB/E/AAAAOXRFWHRTb2Z0d2FyZQBNYXRwbG90bGliIHZlcnNpb24zLjguMCwgaHR0cHM6Ly9tYXRwbG90bGliLm9yZy/PJmwAAAB+SURBVHja7doxCgAgEAPB/X/mB5yG0QJ3kQYQYCAQCAQCgUAgEAgEAoFAIBAIBAKBQCAQCAQCgUAgEAgEAoFAIBAIBAKBQCAQCAQCgUAgEAgEAoFAIBAIBAKBQCAQCAQCgUAgEAgEAoFAIBAIBAKBQCAQCLjT7iQACASu/HkPAAAAAElFTkSuQmCC"
     },
     "metadata": {},
     "output_type": "display_data"
    }
   ],
   "source": [
    "plt.figure(figsize=(10, 6))\n",
    "sns.countplot(y='tags', data=df, order=df['tags'].value_counts().index)\n",
    "plt.title('Distribuzione dei tag')\n",
    "plt.xlabel('Numero di punti di interesse')\n",
    "plt.ylabel('Tag')\n",
    "plt.show()"
   ]
  },
  {
   "cell_type": "code",
   "execution_count": null,
   "id": "a904c632",
   "metadata": {},
   "outputs": [],
   "source": []
  }
 ],
 "metadata": {
  "kernelspec": {
   "display_name": "Python 3 (ipykernel)",
   "language": "python",
   "name": "python3"
  },
  "language_info": {
   "codemirror_mode": {
    "name": "ipython",
    "version": 3
   },
   "file_extension": ".py",
   "mimetype": "text/x-python",
   "name": "python",
   "nbconvert_exporter": "python",
   "pygments_lexer": "ipython3",
   "version": "3.11.7"
  }
 },
 "nbformat": 4,
 "nbformat_minor": 5
}